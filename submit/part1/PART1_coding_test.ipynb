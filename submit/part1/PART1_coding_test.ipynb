{
 "cells": [
  {
   "cell_type": "code",
   "execution_count": 1,
   "metadata": {},
   "outputs": [],
   "source": [
    "import pandas as pd "
   ]
  },
  {
   "cell_type": "code",
   "execution_count": 2,
   "metadata": {},
   "outputs": [],
   "source": [
    "df_case = pd.read_pickle('df_cases_200906.gzip')\n",
    "df_label = pd.read_pickle('df_label_200906.gzip')"
   ]
  },
  {
   "cell_type": "code",
   "execution_count": 3,
   "metadata": {},
   "outputs": [
    {
     "data": {
      "text/html": [
       "<div>\n",
       "<style scoped>\n",
       "    .dataframe tbody tr th:only-of-type {\n",
       "        vertical-align: middle;\n",
       "    }\n",
       "\n",
       "    .dataframe tbody tr th {\n",
       "        vertical-align: top;\n",
       "    }\n",
       "\n",
       "    .dataframe thead th {\n",
       "        text-align: right;\n",
       "    }\n",
       "</style>\n",
       "<table border=\"1\" class=\"dataframe\">\n",
       "  <thead>\n",
       "    <tr style=\"text-align: right;\">\n",
       "      <th></th>\n",
       "      <th>CaseId</th>\n",
       "      <th>FileName</th>\n",
       "      <th>Language</th>\n",
       "      <th>StartDate</th>\n",
       "      <th>DocumentType</th>\n",
       "      <th>IsExecuted</th>\n",
       "      <th>OcrText</th>\n",
       "      <th>QualityScore</th>\n",
       "    </tr>\n",
       "  </thead>\n",
       "  <tbody>\n",
       "    <tr>\n",
       "      <th>0</th>\n",
       "      <td>003061226227</td>\n",
       "      <td>003061226227_12045631_Order form_978-1-67767-3...</td>\n",
       "      <td>EN</td>\n",
       "      <td>20191104</td>\n",
       "      <td>Order form</td>\n",
       "      <td>False</td>\n",
       "      <td>Pressure style response character.</td>\n",
       "      <td>0.649292</td>\n",
       "    </tr>\n",
       "    <tr>\n",
       "      <th>1</th>\n",
       "      <td>003061226383</td>\n",
       "      <td>003061226383_63912371_Contract Info Pack_978-0...</td>\n",
       "      <td>EN</td>\n",
       "      <td>20190805</td>\n",
       "      <td>Contract Info Pack</td>\n",
       "      <td>False</td>\n",
       "      <td>Soon especially boy thousand traditional.</td>\n",
       "      <td>0.873038</td>\n",
       "    </tr>\n",
       "  </tbody>\n",
       "</table>\n",
       "</div>"
      ],
      "text/plain": [
       "         CaseId                                           FileName Language  \\\n",
       "0  003061226227  003061226227_12045631_Order form_978-1-67767-3...       EN   \n",
       "1  003061226383  003061226383_63912371_Contract Info Pack_978-0...       EN   \n",
       "\n",
       "  StartDate        DocumentType IsExecuted  \\\n",
       "0  20191104          Order form      False   \n",
       "1  20190805  Contract Info Pack      False   \n",
       "\n",
       "                                     OcrText  QualityScore  \n",
       "0         Pressure style response character.      0.649292  \n",
       "1  Soon especially boy thousand traditional.      0.873038  "
      ]
     },
     "execution_count": 3,
     "metadata": {},
     "output_type": "execute_result"
    }
   ],
   "source": [
    "df_case.head(2)"
   ]
  },
  {
   "cell_type": "code",
   "execution_count": 4,
   "metadata": {},
   "outputs": [],
   "source": [
    "# split dataframe into valid and invalid dataframes\n",
    "df_invalid=df_case[(df_case['IsExecuted']==False) | (df_case['QualityScore'] <0.81)]\n",
    "df_valid = df_case[(df_case['IsExecuted']==True) &(df_case['QualityScore'] >=0.81)]"
   ]
  },
  {
   "cell_type": "code",
   "execution_count": 5,
   "metadata": {},
   "outputs": [],
   "source": [
    "# groupby id , taking list of the filename\n",
    "grp_invalid = df_invalid.groupby(['CaseId']).agg({'FileName': list}).reset_index()"
   ]
  },
  {
   "cell_type": "code",
   "execution_count": 6,
   "metadata": {},
   "outputs": [],
   "source": [
    "# groupby id , taking list of the filename\n",
    "grp_valid = df_valid.groupby(['CaseId']).agg({'FileName': list,'OcrText':list}).reset_index()"
   ]
  },
  {
   "cell_type": "code",
   "execution_count": 7,
   "metadata": {},
   "outputs": [],
   "source": [
    "# rename the filename of each dataframe as expected\n",
    "grp_invalid =grp_invalid.rename(columns={\"FileName\": \"InvalidFileNames\"})\n",
    "grp_valid =grp_valid.rename(columns={\"FileName\": \"ValidFileNames\"})"
   ]
  },
  {
   "cell_type": "code",
   "execution_count": 8,
   "metadata": {},
   "outputs": [],
   "source": [
    "# outer join two dataframes\n",
    "df_final=grp_invalid.merge(grp_valid,on='CaseId',how = 'outer')"
   ]
  },
  {
   "cell_type": "code",
   "execution_count": 9,
   "metadata": {},
   "outputs": [],
   "source": [
    "# convert NaN to []\n",
    "import numpy as np\n",
    "df_final['InvalidFileNames'] = df_final['InvalidFileNames'].apply(lambda x: [] if x is np.nan else x)\n",
    "df_final['ValidFileNames'] = df_final['ValidFileNames'].apply(lambda x: [] if x is np.nan else x)\n",
    "df_final['OcrText'] = df_final['OcrText'].apply(lambda x: [] if x is np.nan else x)"
   ]
  },
  {
   "cell_type": "code",
   "execution_count": 10,
   "metadata": {},
   "outputs": [],
   "source": [
    "# convert list of strings to string\n",
    "df_final['OcrText'] = df_final['OcrText'].apply(lambda x: ' '.join(x))"
   ]
  },
  {
   "cell_type": "code",
   "execution_count": 11,
   "metadata": {},
   "outputs": [],
   "source": [
    "df_final= df_final.merge(df_label,on='CaseId',how ='left')"
   ]
  },
  {
   "cell_type": "code",
   "execution_count": 12,
   "metadata": {},
   "outputs": [
    {
     "data": {
      "text/html": [
       "<div>\n",
       "<style scoped>\n",
       "    .dataframe tbody tr th:only-of-type {\n",
       "        vertical-align: middle;\n",
       "    }\n",
       "\n",
       "    .dataframe tbody tr th {\n",
       "        vertical-align: top;\n",
       "    }\n",
       "\n",
       "    .dataframe thead th {\n",
       "        text-align: right;\n",
       "    }\n",
       "</style>\n",
       "<table border=\"1\" class=\"dataframe\">\n",
       "  <thead>\n",
       "    <tr style=\"text-align: right;\">\n",
       "      <th></th>\n",
       "      <th>CaseId</th>\n",
       "      <th>InvalidFileNames</th>\n",
       "      <th>ValidFileNames</th>\n",
       "      <th>OcrText</th>\n",
       "      <th>label_1</th>\n",
       "      <th>label_2</th>\n",
       "    </tr>\n",
       "  </thead>\n",
       "  <tbody>\n",
       "    <tr>\n",
       "      <th>0</th>\n",
       "      <td>003061189229</td>\n",
       "      <td>[003061189229_69115288_Master contract_978-0-1...</td>\n",
       "      <td>[003061189229_21094545_other documents_978-1-8...</td>\n",
       "      <td>Accept sell leader herself if.</td>\n",
       "      <td>False</td>\n",
       "      <td>False</td>\n",
       "    </tr>\n",
       "    <tr>\n",
       "      <th>1</th>\n",
       "      <td>003061189242</td>\n",
       "      <td>[003061189242_91658807_other documents_978-0-7...</td>\n",
       "      <td>[]</td>\n",
       "      <td></td>\n",
       "      <td>False</td>\n",
       "      <td>False</td>\n",
       "    </tr>\n",
       "    <tr>\n",
       "      <th>2</th>\n",
       "      <td>003061189279</td>\n",
       "      <td>[003061189279_38849442_other documents_978-0-4...</td>\n",
       "      <td>[]</td>\n",
       "      <td></td>\n",
       "      <td>False</td>\n",
       "      <td>False</td>\n",
       "    </tr>\n",
       "    <tr>\n",
       "      <th>3</th>\n",
       "      <td>003061189282</td>\n",
       "      <td>[003061189282_21176036_Contract Documents_978-...</td>\n",
       "      <td>[]</td>\n",
       "      <td></td>\n",
       "      <td>False</td>\n",
       "      <td>False</td>\n",
       "    </tr>\n",
       "    <tr>\n",
       "      <th>4</th>\n",
       "      <td>003061189333</td>\n",
       "      <td>[003061189333_93380638_Order form_978-1-948186...</td>\n",
       "      <td>[]</td>\n",
       "      <td></td>\n",
       "      <td>False</td>\n",
       "      <td>False</td>\n",
       "    </tr>\n",
       "  </tbody>\n",
       "</table>\n",
       "</div>"
      ],
      "text/plain": [
       "         CaseId                                   InvalidFileNames  \\\n",
       "0  003061189229  [003061189229_69115288_Master contract_978-0-1...   \n",
       "1  003061189242  [003061189242_91658807_other documents_978-0-7...   \n",
       "2  003061189279  [003061189279_38849442_other documents_978-0-4...   \n",
       "3  003061189282  [003061189282_21176036_Contract Documents_978-...   \n",
       "4  003061189333  [003061189333_93380638_Order form_978-1-948186...   \n",
       "\n",
       "                                      ValidFileNames  \\\n",
       "0  [003061189229_21094545_other documents_978-1-8...   \n",
       "1                                                 []   \n",
       "2                                                 []   \n",
       "3                                                 []   \n",
       "4                                                 []   \n",
       "\n",
       "                          OcrText label_1 label_2  \n",
       "0  Accept sell leader herself if.   False   False  \n",
       "1                                   False   False  \n",
       "2                                   False   False  \n",
       "3                                   False   False  \n",
       "4                                   False   False  "
      ]
     },
     "execution_count": 12,
     "metadata": {},
     "output_type": "execute_result"
    }
   ],
   "source": [
    "df_final.head(5)"
   ]
  },
  {
   "cell_type": "code",
   "execution_count": 13,
   "metadata": {},
   "outputs": [],
   "source": [
    "df_final.to_pickle('df_final.gzip')"
   ]
  },
  {
   "cell_type": "code",
   "execution_count": null,
   "metadata": {},
   "outputs": [],
   "source": []
  }
 ],
 "metadata": {
  "kernelspec": {
   "display_name": "Python 3",
   "language": "python",
   "name": "python3"
  },
  "language_info": {
   "codemirror_mode": {
    "name": "ipython",
    "version": 3
   },
   "file_extension": ".py",
   "mimetype": "text/x-python",
   "name": "python",
   "nbconvert_exporter": "python",
   "pygments_lexer": "ipython3",
   "version": "3.7.6"
  }
 },
 "nbformat": 4,
 "nbformat_minor": 4
}
