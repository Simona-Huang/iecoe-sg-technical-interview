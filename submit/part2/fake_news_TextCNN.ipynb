{
 "cells": [
  {
   "cell_type": "code",
   "execution_count": 16,
   "metadata": {},
   "outputs": [],
   "source": [
    "import re\n",
    "import pandas as pd\n",
    "import numpy as np\n",
    "import tensorflow as tf\n",
    "from tensorflow.keras import Input, Model, Sequential\n",
    "from keras.preprocessing.text import one_hot\n",
    "from keras.preprocessing.sequence import pad_sequences\n",
    "from tensorflow.keras.layers import Dense, Embedding, Conv1D, GlobalMaxPooling1D, Dropout, Concatenate\n",
    "from sklearn.utils import shuffle\n",
    "from sklearn.model_selection import train_test_split\n",
    "from sklearn.metrics import f1_score\n",
    "from nltk.corpus import stopwords\n",
    "from nltk.stem import PorterStemmer\n",
    "import datetime"
   ]
  },
  {
   "cell_type": "code",
   "execution_count": 2,
   "metadata": {},
   "outputs": [],
   "source": [
    "df_true = pd.read_csv('True.csv')\n",
    "df_fake = pd.read_csv('Fake.csv')"
   ]
  },
  {
   "cell_type": "code",
   "execution_count": 3,
   "metadata": {},
   "outputs": [
    {
     "data": {
      "text/html": [
       "<div>\n",
       "<style scoped>\n",
       "    .dataframe tbody tr th:only-of-type {\n",
       "        vertical-align: middle;\n",
       "    }\n",
       "\n",
       "    .dataframe tbody tr th {\n",
       "        vertical-align: top;\n",
       "    }\n",
       "\n",
       "    .dataframe thead th {\n",
       "        text-align: right;\n",
       "    }\n",
       "</style>\n",
       "<table border=\"1\" class=\"dataframe\">\n",
       "  <thead>\n",
       "    <tr style=\"text-align: right;\">\n",
       "      <th></th>\n",
       "      <th>title</th>\n",
       "      <th>text</th>\n",
       "      <th>subject</th>\n",
       "      <th>date</th>\n",
       "    </tr>\n",
       "  </thead>\n",
       "  <tbody>\n",
       "    <tr>\n",
       "      <th>0</th>\n",
       "      <td>As U.S. budget fight looms, Republicans flip t...</td>\n",
       "      <td>WASHINGTON (Reuters) - The head of a conservat...</td>\n",
       "      <td>politicsNews</td>\n",
       "      <td>December 31, 2017</td>\n",
       "    </tr>\n",
       "    <tr>\n",
       "      <th>1</th>\n",
       "      <td>U.S. military to accept transgender recruits o...</td>\n",
       "      <td>WASHINGTON (Reuters) - Transgender people will...</td>\n",
       "      <td>politicsNews</td>\n",
       "      <td>December 29, 2017</td>\n",
       "    </tr>\n",
       "    <tr>\n",
       "      <th>2</th>\n",
       "      <td>Senior U.S. Republican senator: 'Let Mr. Muell...</td>\n",
       "      <td>WASHINGTON (Reuters) - The special counsel inv...</td>\n",
       "      <td>politicsNews</td>\n",
       "      <td>December 31, 2017</td>\n",
       "    </tr>\n",
       "    <tr>\n",
       "      <th>3</th>\n",
       "      <td>FBI Russia probe helped by Australian diplomat...</td>\n",
       "      <td>WASHINGTON (Reuters) - Trump campaign adviser ...</td>\n",
       "      <td>politicsNews</td>\n",
       "      <td>December 30, 2017</td>\n",
       "    </tr>\n",
       "    <tr>\n",
       "      <th>4</th>\n",
       "      <td>Trump wants Postal Service to charge 'much mor...</td>\n",
       "      <td>SEATTLE/WASHINGTON (Reuters) - President Donal...</td>\n",
       "      <td>politicsNews</td>\n",
       "      <td>December 29, 2017</td>\n",
       "    </tr>\n",
       "  </tbody>\n",
       "</table>\n",
       "</div>"
      ],
      "text/plain": [
       "                                               title  \\\n",
       "0  As U.S. budget fight looms, Republicans flip t...   \n",
       "1  U.S. military to accept transgender recruits o...   \n",
       "2  Senior U.S. Republican senator: 'Let Mr. Muell...   \n",
       "3  FBI Russia probe helped by Australian diplomat...   \n",
       "4  Trump wants Postal Service to charge 'much mor...   \n",
       "\n",
       "                                                text       subject  \\\n",
       "0  WASHINGTON (Reuters) - The head of a conservat...  politicsNews   \n",
       "1  WASHINGTON (Reuters) - Transgender people will...  politicsNews   \n",
       "2  WASHINGTON (Reuters) - The special counsel inv...  politicsNews   \n",
       "3  WASHINGTON (Reuters) - Trump campaign adviser ...  politicsNews   \n",
       "4  SEATTLE/WASHINGTON (Reuters) - President Donal...  politicsNews   \n",
       "\n",
       "                 date  \n",
       "0  December 31, 2017   \n",
       "1  December 29, 2017   \n",
       "2  December 31, 2017   \n",
       "3  December 30, 2017   \n",
       "4  December 29, 2017   "
      ]
     },
     "execution_count": 3,
     "metadata": {},
     "output_type": "execute_result"
    }
   ],
   "source": [
    "df_true.head()"
   ]
  },
  {
   "cell_type": "code",
   "execution_count": 4,
   "metadata": {},
   "outputs": [],
   "source": [
    "stoplist = stopwords.words('english')\n",
    "## used for standardization of words\n",
    "ps = PorterStemmer()\n",
    "def text_preprocessing(text):\n",
    "    ## except a-z and A-Z all charectors will be replaced by space\n",
    "    text = re.sub('[^a-zA-Z]', ' ', text) \n",
    "    ## then make every words in lower\n",
    "    text = text.lower() \n",
    "    ## then split every words in list\n",
    "    text = text.split() \n",
    "    \n",
    "    text = [ps.stem(word) for word in text if not word in stoplist] \n",
    "    text = ' '.join(text)\n",
    "    return text"
   ]
  },
  {
   "cell_type": "code",
   "execution_count": 5,
   "metadata": {},
   "outputs": [],
   "source": [
    "## label fake as 1, true as 0\n",
    "df_fake['label'], df_true[\"label\"] = 1, 0\n",
    "## Concat all useful text information\n",
    "df_true['text'] = df_true['title'] + \" \" + df_true[\"text\"] + \" \" + df_true['subject']\n",
    "df_fake['text'] = df_fake['title'] + \" \" + df_fake[\"text\"] + \" \" + df_fake['subject']\n",
    "df = pd.concat([df_true[['text', 'label']], df_fake[['text', 'label']]])"
   ]
  },
  {
   "cell_type": "code",
   "execution_count": 6,
   "metadata": {},
   "outputs": [],
   "source": [
    "df[\"text\"] = df['text'].apply(text_preprocessing)"
   ]
  },
  {
   "cell_type": "code",
   "execution_count": 8,
   "metadata": {},
   "outputs": [
    {
     "name": "stdout",
     "output_type": "stream",
     "text": [
      "vocab size : 89890\n",
      "maximum length : 4991\n"
     ]
    }
   ],
   "source": [
    "## Calculate maximum length for padding purpose\n",
    "df[\"length\"] = df[\"text\"].apply(lambda x : len(x.split()))\n",
    "maxlen = max(df[\"length\"])\n",
    "## Calculate unique vocabs\n",
    "vocab_set = set()\n",
    "for text in df[\"text\"]:\n",
    "    for char in text.split():\n",
    "        vocab_set.add(char)\n",
    "\n",
    "## vocab and index mapping\n",
    "## The reseaon for plus one is that I want padding 0 to be the meaning of empty\n",
    "vocab_to_int = {w: c + 1 for c, w in enumerate(list(vocab_set))}\n",
    "int_to_vocab = {c + 1: w for c, w in enumerate(list(vocab_set))}\n",
    "vocab_size = len(vocab_set) + 1\n",
    "print (\"vocab size : {}\".format(vocab_size))\n",
    "print (\"maximum length : {}\".format(maxlen))"
   ]
  },
  {
   "cell_type": "code",
   "execution_count": 9,
   "metadata": {},
   "outputs": [],
   "source": [
    "## vocab to int index mapping\n",
    "df[\"text_vectors\"] = df['text'].apply(lambda  x : [vocab_to_int[word] for word in x.split()])"
   ]
  },
  {
   "cell_type": "code",
   "execution_count": 11,
   "metadata": {},
   "outputs": [
    {
     "name": "stdout",
     "output_type": "stream",
     "text": [
      "train shape : (11785, 4991)\n",
      "test shape : (3929, 4991)\n"
     ]
    }
   ],
   "source": [
    "## sampling and datasets spliting\n",
    "df = shuffle(df)\n",
    "df_sample = df.sample(frac = 0.35,random_state=42)[['text_vectors', 'label']]\n",
    "X = list(df_sample['text_vectors'])\n",
    "y = np.array((df_sample['label']))\n",
    "## padding with 0\n",
    "X = pad_sequences(X, maxlen=maxlen, padding='post')\n",
    "X_train, X_test, y_train, y_test = train_test_split(X, y, test_size=0.25, random_state=42)\n",
    "print (\"train shape : {}\".format(X_train.shape))\n",
    "print (\"test shape : {}\".format(X_test.shape))"
   ]
  },
  {
   "cell_type": "code",
   "execution_count": 14,
   "metadata": {},
   "outputs": [
    {
     "name": "stdout",
     "output_type": "stream",
     "text": [
      "Model: \"sequential_1\"\n",
      "_________________________________________________________________\n",
      "Layer (type)                 Output Shape              Param #   \n",
      "=================================================================\n",
      "model_1 (Functional)         (None, 1)                 1372159   \n",
      "=================================================================\n",
      "Total params: 1,372,159\n",
      "Trainable params: 1,372,159\n",
      "Non-trainable params: 0\n",
      "_________________________________________________________________\n",
      "None\n"
     ]
    }
   ],
   "source": [
    "## TextCNN implementation\n",
    "embedding_dims = 15\n",
    "dropout_rate = 0.3\n",
    "def TextCNN(vocab_size, maxlen, embedding_dims, dropout_rate):\n",
    "    input = Input((maxlen,))\n",
    "    embedding = Embedding(vocab_size, embedding_dims, input_length=maxlen)(input)\n",
    "    convs = []\n",
    "    for kernel_size in [3, 4, 5]:\n",
    "        c = Conv1D(128, kernel_size, activation='relu')(embedding)\n",
    "        c = GlobalMaxPooling1D()(c)\n",
    "        convs.append(c)\n",
    "    x = Concatenate()(convs)\n",
    "    x = Dropout(dropout_rate)(x)\n",
    "    output = Dense(1, activation=\"sigmoid\")(x)\n",
    "    model = Model(inputs=input, outputs=output)\n",
    "    return model\n",
    "\n",
    "## Initialize model\n",
    "text_cnn_model = TextCNN(vocab_size, maxlen, embedding_dims, dropout_rate)\n",
    "model = Sequential()\n",
    "model.add(text_cnn_model)\n",
    "print (model.summary())\n",
    "\n",
    "## compile model\n",
    "loss = tf.keras.losses.BinaryCrossentropy(from_logits=True)\n",
    "metrics = tf.metrics.BinaryAccuracy()\n",
    "epochs = 5\n",
    "optimizer =tf.keras.optimizers.Adam(\n",
    "    learning_rate=0.001, \n",
    "    name='Adam'\n",
    ")\n",
    "model.compile(optimizer=optimizer,\n",
    "                         loss=loss,\n",
    "                         metrics=metrics)"
   ]
  },
  {
   "cell_type": "code",
   "execution_count": 17,
   "metadata": {},
   "outputs": [
    {
     "name": "stdout",
     "output_type": "stream",
     "text": [
      "Epoch 1/5\n",
      "148/148 - 221s - loss: 0.2997 - binary_accuracy: 0.8936 - val_loss: 0.0054 - val_binary_accuracy: 1.0000\n",
      "Epoch 2/5\n",
      "148/148 - 306s - loss: 0.0025 - binary_accuracy: 1.0000 - val_loss: 9.3454e-04 - val_binary_accuracy: 1.0000\n",
      "Epoch 3/5\n",
      "148/148 - 358s - loss: 6.6466e-04 - binary_accuracy: 1.0000 - val_loss: 3.7085e-04 - val_binary_accuracy: 1.0000\n",
      "Epoch 4/5\n",
      "148/148 - 363s - loss: 3.0511e-04 - binary_accuracy: 1.0000 - val_loss: 1.9416e-04 - val_binary_accuracy: 1.0000\n",
      "Epoch 5/5\n",
      "148/148 - 361s - loss: 1.7678e-04 - binary_accuracy: 1.0000 - val_loss: 1.1879e-04 - val_binary_accuracy: 1.0000\n"
     ]
    }
   ],
   "source": [
    "## record history using tensorboard\n",
    "log_dir = datetime.datetime.now().strftime(\"%Y%m%d-%H%M%S\")\n",
    "tensorboard_callback = tf.keras.callbacks.TensorBoard(log_dir=log_dir, histogram_freq=1, write_graph=True, update_freq='epoch')\n",
    "history = model.fit(X_train, y_train, validation_split=0.2, epochs=epochs, verbose=2, batch_size=64, callbacks=[tensorboard_callback])"
   ]
  },
  {
   "cell_type": "code",
   "execution_count": 18,
   "metadata": {},
   "outputs": [
    {
     "name": "stderr",
     "output_type": "stream",
     "text": [
      "/Library/Frameworks/Python.framework/Versions/3.7/lib/python3.7/site-packages/tensorflow/python/keras/engine/sequential.py:450: UserWarning: `model.predict_classes()` is deprecated and will be removed after 2021-01-01. Please use instead:* `np.argmax(model.predict(x), axis=-1)`,   if your model does multi-class classification   (e.g. if it uses a `softmax` last-layer activation).* `(model.predict(x) > 0.5).astype(\"int32\")`,   if your model does binary classification   (e.g. if it uses a `sigmoid` last-layer activation).\n",
      "  warnings.warn('`model.predict_classes()` is deprecated and '\n"
     ]
    },
    {
     "name": "stdout",
     "output_type": "stream",
     "text": [
      "f1 score : 1.0\n"
     ]
    }
   ],
   "source": [
    "## inference\n",
    "y_hat = model.predict_classes(X_test, batch_size=64)\n",
    "score = f1_score(y_test, y_hat)\n",
    "print (\"f1 score : {}\".format(score))"
   ]
  },
  {
   "cell_type": "code",
   "execution_count": 29,
   "metadata": {},
   "outputs": [
    {
     "name": "stdout",
     "output_type": "stream",
     "text": [
      "The tensorboard extension is already loaded. To reload it, use:\n",
      "  %reload_ext tensorboard\n"
     ]
    },
    {
     "data": {
      "text/html": [
       "\n",
       "      <iframe id=\"tensorboard-frame-8640a2f9ec4271da\" width=\"100%\" height=\"800\" frameborder=\"0\">\n",
       "      </iframe>\n",
       "      <script>\n",
       "        (function() {\n",
       "          const frame = document.getElementById(\"tensorboard-frame-8640a2f9ec4271da\");\n",
       "          const url = new URL(\"/\", window.location);\n",
       "          const port = 6007;\n",
       "          if (port) {\n",
       "            url.port = port;\n",
       "          }\n",
       "          frame.src = url;\n",
       "        })();\n",
       "      </script>\n",
       "    "
      ],
      "text/plain": [
       "<IPython.core.display.HTML object>"
      ]
     },
     "metadata": {},
     "output_type": "display_data"
    }
   ],
   "source": [
    "%load_ext tensorboard\n",
    "%tensorboard --logdir ."
   ]
  },
  {
   "cell_type": "code",
   "execution_count": null,
   "metadata": {},
   "outputs": [],
   "source": []
  }
 ],
 "metadata": {
  "kernelspec": {
   "display_name": "Python 3",
   "language": "python",
   "name": "python3"
  },
  "language_info": {
   "codemirror_mode": {
    "name": "ipython",
    "version": 3
   },
   "file_extension": ".py",
   "mimetype": "text/x-python",
   "name": "python",
   "nbconvert_exporter": "python",
   "pygments_lexer": "ipython3",
   "version": "3.7.6"
  }
 },
 "nbformat": 4,
 "nbformat_minor": 4
}
