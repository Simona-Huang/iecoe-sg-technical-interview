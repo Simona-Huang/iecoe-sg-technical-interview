{
 "cells": [
  {
   "cell_type": "code",
   "execution_count": 74,
   "metadata": {},
   "outputs": [],
   "source": [
    "# source of reference code  https://www.tensorflow.org/tutorials/text/classify_text_with_bert\n",
    "\n",
    "import pandas as pd \n",
    "import tensorflow as tf\n",
    "import tensorflow_hub as hub\n",
    "import tensorflow_text as text \n",
    "from sklearn.metrics import f1_score\n",
    "import numpy as np\n",
    "from sklearn.model_selection import train_test_split\n",
    "\n",
    "df_true = pd.read_csv('True.csv')\n",
    "df_fake = pd.read_csv('Fake.csv')\n",
    "\n",
    "# take samples from the population \n",
    "sample_fake = df_fake.sample(frac = 0.1,random_state=42)\n",
    "sample_true = df_true.sample(frac = 0.1,random_state = 42)\n",
    "\n",
    "# concate title , text , and type of news together , as in addition to text, title and types of news may be indicative. \n",
    "sample_fake = sample_fake.dropna(subset= ['title','text'])\n",
    "sample_ture = sample_true.dropna(subset= ['title','text'])\n",
    "sample_fake['text'] = sample_fake['title']+' '+sample_fake['text']+' '+ sample_fake['subject']\n",
    "sample_true['text'] = sample_true['title']+' '+sample_true['text']+' '+ sample_true['subject']\n",
    "sample_fake = sample_fake['text']\n",
    "sample_true = sample_true['text']\n",
    "\n",
    "\n",
    "# split text data into train and test datasets\n",
    "train_fake,test_fake = train_test_split(sample_fake,test_size = 0.2,random_state = 42)\n",
    "train_true,test_true = train_test_split(sample_true,test_size = 0.2,random_state = 42)\n",
    "\n",
    "# write into the txt format required by the next process \n",
    "\n",
    "def write_file(df,name1,name2):\n",
    "    n = len(df)\n",
    "    for i in range(n):\n",
    "        with open('{}/{}/{}.txt'.format(name1,name2,i),'w') as text_file:\n",
    "            text_file.write(df.iloc[i])\n",
    "\n",
    "write_file(train_fake,'train','1_fake')\n",
    "write_file(train_true,'train','0_true')\n",
    "write_file(test_true,'test','0_true')\n",
    "write_file(test_fake,'test','1_fake')"
   ]
  },
  {
   "cell_type": "code",
   "execution_count": 77,
   "metadata": {},
   "outputs": [
    {
     "name": "stdout",
     "output_type": "stream",
     "text": [
      "Found 3591 files belonging to 2 classes.\n",
      "Using 2873 files for training.\n",
      "Found 3591 files belonging to 2 classes.\n",
      "Using 718 files for validation.\n",
      "Found 899 files belonging to 2 classes.\n"
     ]
    }
   ],
   "source": [
    "AUTOTUNE = tf.data.AUTOTUNE\n",
    "batch_size = 32\n",
    "seed = 42\n",
    "\n",
    "# prepare train dataset\n",
    "raw_train_ds = tf.keras.preprocessing.text_dataset_from_directory(\n",
    "    'train',\n",
    "    batch_size=batch_size,\n",
    "    validation_split=0.2,\n",
    "    subset='training',\n",
    "    label_mode='binary',\n",
    "    seed = seed)\n",
    "\n",
    "# fake news will be labeled as 1, and true 0.\n",
    "class_names = raw_train_ds.class_names\n",
    "train_ds = raw_train_ds.cache().prefetch(buffer_size=AUTOTUNE)\n",
    "\n",
    "# validation dateset\n",
    "val_ds = tf.keras.preprocessing.text_dataset_from_directory(\n",
    "    'train',\n",
    "    batch_size=batch_size,\n",
    "    validation_split=0.2,\n",
    "    subset='validation',\n",
    "    label_mode = 'binary',\n",
    "    seed=seed)\n",
    "\n",
    "val_ds = val_ds.cache().prefetch(buffer_size=AUTOTUNE)\n",
    "\n",
    "# test_dataset\n",
    "test_ds = tf.keras.preprocessing.text_dataset_from_directory(\n",
    "    'test',\n",
    "    batch_size=batch_size,\n",
    "    label_mode = 'binary'\n",
    "   )\n",
    "\n",
    "test_ds = test_ds.cache().prefetch(buffer_size=AUTOTUNE)\n",
    "\n"
   ]
  },
  {
   "cell_type": "code",
   "execution_count": 98,
   "metadata": {},
   "outputs": [],
   "source": [
    "\n",
    "tf.compat.v1.logging.set_verbosity(tf.compat.v1.logging.ERROR)\n",
    "# use small_bert model and bert_en_uncased_preprocess layer.\n",
    "tfhub_handle_encoder = 'https://tfhub.dev/tensorflow/small_bert/bert_en_uncased_L-2_H-512_A-8/1'\n",
    "tfhub_handle_preprocess = 'https://tfhub.dev/tensorflow/bert_en_uncased_preprocess/3'\n",
    "bert_preprocess_model = hub.KerasLayer(tfhub_handle_preprocess)\n",
    "bert_model = hub.KerasLayer(tfhub_handle_encoder)\n"
   ]
  },
  {
   "cell_type": "code",
   "execution_count": 38,
   "metadata": {},
   "outputs": [],
   "source": [
    "def build_classifier_model():\n",
    "    text_input = tf.keras.layers.Input(shape=(), dtype=tf.string, name='text')\n",
    "    preprocessing_layer = hub.KerasLayer(tfhub_handle_preprocess, name='preprocessing')\n",
    "    encoder_inputs = preprocessing_layer(text_input)\n",
    "    encoder = hub.KerasLayer(tfhub_handle_encoder, trainable=True, name='BERT_encoder')\n",
    "    outputs = encoder(encoder_inputs)\n",
    "    net = outputs['pooled_output']\n",
    "    net = tf.keras.layers.Dropout(0.1)(net)\n",
    "    net = tf.keras.layers.Dense(1, activation='sigmoid', name='classifier')(net)\n",
    "    return tf.keras.Model(text_input, net)\n"
   ]
  },
  {
   "cell_type": "code",
   "execution_count": 108,
   "metadata": {},
   "outputs": [],
   "source": [
    "\n",
    "classifier_model = build_classifier_model()\n",
    "loss = tf.keras.losses.BinaryCrossentropy(from_logits=True)\n",
    "\n",
    "metrics = tf.metrics.BinaryAccuracy()\n",
    "\n",
    "\n",
    "epochs = 3\n",
    "\n",
    "optimizer =tf.keras.optimizers.Adam(\n",
    "    learning_rate=0.001, \n",
    "    name='Adam'\n",
    ")\n",
    "\n",
    "\n",
    "classifier_model.compile(optimizer=optimizer,\n",
    "                         loss=loss,\n",
    "                         metrics=metrics)\n"
   ]
  },
  {
   "cell_type": "code",
   "execution_count": 105,
   "metadata": {},
   "outputs": [
    {
     "name": "stdout",
     "output_type": "stream",
     "text": [
      "Model: \"model_22\"\n",
      "__________________________________________________________________________________________________\n",
      "Layer (type)                    Output Shape         Param #     Connected to                     \n",
      "==================================================================================================\n",
      "text (InputLayer)               [(None,)]            0                                            \n",
      "__________________________________________________________________________________________________\n",
      "preprocessing (KerasLayer)      {'input_type_ids': ( 0           text[0][0]                       \n",
      "__________________________________________________________________________________________________\n",
      "BERT_encoder (KerasLayer)       {'encoder_outputs':  22458881    preprocessing[0][0]              \n",
      "                                                                 preprocessing[0][1]              \n",
      "                                                                 preprocessing[0][2]              \n",
      "__________________________________________________________________________________________________\n",
      "dropout_22 (Dropout)            (None, 512)          0           BERT_encoder[0][3]               \n",
      "__________________________________________________________________________________________________\n",
      "classifier (Dense)              (None, 1)            513         dropout_22[0][0]                 \n",
      "==================================================================================================\n",
      "Total params: 22,459,394\n",
      "Trainable params: 22,459,393\n",
      "Non-trainable params: 1\n",
      "__________________________________________________________________________________________________\n",
      "None\n"
     ]
    }
   ],
   "source": [
    "print(classifier_model.summary())"
   ]
  },
  {
   "cell_type": "code",
   "execution_count": 109,
   "metadata": {},
   "outputs": [
    {
     "name": "stdout",
     "output_type": "stream",
     "text": [
      "Epoch 1/3\n",
      "90/90 [==============================] - 451s 5s/step - loss: 0.4689 - binary_accuracy: 0.8513 - val_loss: 0.0274 - val_binary_accuracy: 0.9972\n",
      "Epoch 2/3\n",
      "90/90 [==============================] - 408s 5s/step - loss: 0.1095 - binary_accuracy: 0.9706 - val_loss: 0.0187 - val_binary_accuracy: 0.9972\n",
      "Epoch 3/3\n",
      "90/90 [==============================] - 260s 3s/step - loss: 0.0341 - binary_accuracy: 0.9945 - val_loss: 0.0187 - val_binary_accuracy: 0.9972\n"
     ]
    }
   ],
   "source": [
    "\n",
    "history = classifier_model.fit(x=train_ds, validation_data=val_ds,epochs=epochs)\n",
    "\n"
   ]
  },
  {
   "cell_type": "code",
   "execution_count": 110,
   "metadata": {},
   "outputs": [
    {
     "name": "stdout",
     "output_type": "stream",
     "text": [
      "f1 score is 1.0\n"
     ]
    }
   ],
   "source": [
    "# code reference https://stackoverflow.com/questions/64687375/\n",
    "#get-labels-from-dataset-when-using-tensorflow-image-dataset-from-directory/64689000\n",
    "# make predictions and use label to calculate f1 score\n",
    "predictions = np.array([])\n",
    "labels =  np.array([])\n",
    "for x, y in test_ds:\n",
    "    predictions = np.concatenate([predictions, classifier_model.predict(x)[0]])\n",
    "    labels = np.concatenate([labels, y[0]])\n",
    "predictions=predictions>0.5\n",
    "f1 = f1_score(labels,predictions)\n",
    "print('f1 score is {}'.format(f1))"
   ]
  },
  {
   "cell_type": "code",
   "execution_count": 113,
   "metadata": {},
   "outputs": [
    {
     "name": "stdout",
     "output_type": "stream",
     "text": [
      "29/29 [==============================] - 25s 851ms/step - loss: 0.0229 - binary_accuracy: 0.9967\n",
      "dict_keys(['loss', 'binary_accuracy', 'val_loss', 'val_binary_accuracy'])\n"
     ]
    },
    {
     "data": {
      "text/plain": [
       "<matplotlib.legend.Legend at 0x7fe4782bc690>"
      ]
     },
     "execution_count": 113,
     "metadata": {},
     "output_type": "execute_result"
    },
    {
     "data": {
      "image/png": "[encoded data removed]",
      "text/plain": [
       "<Figure size 720x432 with 2 Axes>"
      ]
     },
     "metadata": {
      "needs_background": "light"
     },
     "output_type": "display_data"
    }
   ],
   "source": [
    "# evaluate the model\n",
    "import matplotlib.pyplot as plt \n",
    "loss, accuracy = classifier_model.evaluate(test_ds)\n",
    "history_dict = history.history\n",
    "print(history_dict.keys())\n",
    "\n",
    "acc = history_dict['binary_accuracy']\n",
    "val_acc = history_dict['val_binary_accuracy']\n",
    "loss = history_dict['loss']\n",
    "val_loss = history_dict['val_loss']\n",
    "\n",
    "epochs = range(1, len(acc) + 1)\n",
    "fig = plt.figure(figsize=(10, 6))\n",
    "fig.tight_layout()\n",
    "\n",
    "plt.subplot(2, 1, 1)\n",
    "# \"bo\" is for \"blue dot\"\n",
    "plt.plot(epochs, loss, 'r', label='Training loss')\n",
    "# b is for \"solid blue line\"\n",
    "plt.plot(epochs, val_loss, 'b', label='Validation loss')\n",
    "plt.title('Training and validation loss')\n",
    "# plt.xlabel('Epochs')\n",
    "plt.ylabel('Loss')\n",
    "plt.legend()\n",
    "\n",
    "plt.subplot(2, 1, 2)\n",
    "plt.plot(epochs, acc, 'r', label='Training acc')\n",
    "plt.plot(epochs, val_acc, 'b', label='Validation acc')\n",
    "plt.title('Training and validation accuracy')\n",
    "plt.xlabel('Epochs')\n",
    "plt.ylabel('Accuracy')\n",
    "plt.legend(loc='lower right')\n"
   ]
  },
  {
   "cell_type": "code",
   "execution_count": null,
   "metadata": {},
   "outputs": [],
   "source": []
  }
 ],
 "metadata": {
  "kernelspec": {
   "display_name": "Python 3",
   "language": "python",
   "name": "python3"
  },
  "language_info": {
   "codemirror_mode": {
    "name": "ipython",
    "version": 3
   },
   "file_extension": ".py",
   "mimetype": "text/x-python",
   "name": "python",
   "nbconvert_exporter": "python",
   "pygments_lexer": "ipython3",
   "version": "3.7.6"
  }
 },
 "nbformat": 4,
 "nbformat_minor": 4
}
